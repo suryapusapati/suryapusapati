{
 "cells": [
  {
   "cell_type": "markdown",
   "id": "c212706d",
   "metadata": {},
   "source": [
    "# AI for Business (BUAN 617)\n",
    "## Project 2\n",
    "## Term: Fall 2023 | Student Name: Mohammed Rayanuddin | Student ID:\n",
    "---"
   ]
  },
  {
   "cell_type": "markdown",
   "id": "92385b71",
   "metadata": {},
   "source": [
    "### #01: Find a business dataset that contains a minimum of 10 columns and 100 rows.\n",
    "After performing a extensive search in Google datasets, Kaggle, GitHub, and other open data sources. I found [Titanic Dataset](https://www.kaggle.com/datasets/brendan45774/test-file) from Kaggle as the closest fit for this project."
   ]
  },
  {
   "cell_type": "code",
   "execution_count": 1,
   "id": "2c469ece",
   "metadata": {},
   "outputs": [],
   "source": [
    "# import essential packages\n",
    "import pandas as pd\n",
    "import numpy as np\n",
    "import matplotlib.pyplot as plt\n",
    "\n",
    "from sklearn.model_selection import train_test_split\n",
    "from sklearn.linear_model import LinearRegression, LogisticRegression\n",
    "from sklearn.preprocessing import PolynomialFeatures\n",
    "from sklearn.metrics import mean_squared_error, r2_score, confusion_matrix\n",
    "from sklearn.model_selection import permutation_test_score, KFold"
   ]
  },
  {
   "cell_type": "code",
   "execution_count": 2,
   "id": "784fc8c7",
   "metadata": {},
   "outputs": [],
   "source": [
    "# read data from CSV\n",
    "OD_data = pd.read_csv(\"tested.csv\")"
   ]
  },
  {
   "cell_type": "code",
   "execution_count": 3,
   "id": "ce495159",
   "metadata": {},
   "outputs": [
    {
     "data": {
      "text/plain": [
       "(418, 12)"
      ]
     },
     "execution_count": 3,
     "metadata": {},
     "output_type": "execute_result"
    }
   ],
   "source": [
    "# is the dataset having minimum 10 cols and 100 rows?\n",
    "OD_data.shape"
   ]
  },
  {
   "cell_type": "code",
   "execution_count": 4,
   "id": "4eb66bc5",
   "metadata": {},
   "outputs": [
    {
     "data": {
      "text/html": [
       "<div>\n",
       "<style scoped>\n",
       "    .dataframe tbody tr th:only-of-type {\n",
       "        vertical-align: middle;\n",
       "    }\n",
       "\n",
       "    .dataframe tbody tr th {\n",
       "        vertical-align: top;\n",
       "    }\n",
       "\n",
       "    .dataframe thead th {\n",
       "        text-align: right;\n",
       "    }\n",
       "</style>\n",
       "<table border=\"1\" class=\"dataframe\">\n",
       "  <thead>\n",
       "    <tr style=\"text-align: right;\">\n",
       "      <th></th>\n",
       "      <th>PassengerId</th>\n",
       "      <th>Survived</th>\n",
       "      <th>Pclass</th>\n",
       "      <th>Age</th>\n",
       "      <th>SibSp</th>\n",
       "      <th>Parch</th>\n",
       "      <th>Fare</th>\n",
       "    </tr>\n",
       "  </thead>\n",
       "  <tbody>\n",
       "    <tr>\n",
       "      <th>count</th>\n",
       "      <td>418.000000</td>\n",
       "      <td>418.000000</td>\n",
       "      <td>418.000000</td>\n",
       "      <td>332.000000</td>\n",
       "      <td>418.000000</td>\n",
       "      <td>418.000000</td>\n",
       "      <td>417.000000</td>\n",
       "    </tr>\n",
       "    <tr>\n",
       "      <th>mean</th>\n",
       "      <td>1100.500000</td>\n",
       "      <td>0.363636</td>\n",
       "      <td>2.265550</td>\n",
       "      <td>30.272590</td>\n",
       "      <td>0.447368</td>\n",
       "      <td>0.392344</td>\n",
       "      <td>35.627188</td>\n",
       "    </tr>\n",
       "    <tr>\n",
       "      <th>std</th>\n",
       "      <td>120.810458</td>\n",
       "      <td>0.481622</td>\n",
       "      <td>0.841838</td>\n",
       "      <td>14.181209</td>\n",
       "      <td>0.896760</td>\n",
       "      <td>0.981429</td>\n",
       "      <td>55.907576</td>\n",
       "    </tr>\n",
       "    <tr>\n",
       "      <th>min</th>\n",
       "      <td>892.000000</td>\n",
       "      <td>0.000000</td>\n",
       "      <td>1.000000</td>\n",
       "      <td>0.170000</td>\n",
       "      <td>0.000000</td>\n",
       "      <td>0.000000</td>\n",
       "      <td>0.000000</td>\n",
       "    </tr>\n",
       "    <tr>\n",
       "      <th>25%</th>\n",
       "      <td>996.250000</td>\n",
       "      <td>0.000000</td>\n",
       "      <td>1.000000</td>\n",
       "      <td>21.000000</td>\n",
       "      <td>0.000000</td>\n",
       "      <td>0.000000</td>\n",
       "      <td>7.895800</td>\n",
       "    </tr>\n",
       "    <tr>\n",
       "      <th>50%</th>\n",
       "      <td>1100.500000</td>\n",
       "      <td>0.000000</td>\n",
       "      <td>3.000000</td>\n",
       "      <td>27.000000</td>\n",
       "      <td>0.000000</td>\n",
       "      <td>0.000000</td>\n",
       "      <td>14.454200</td>\n",
       "    </tr>\n",
       "    <tr>\n",
       "      <th>75%</th>\n",
       "      <td>1204.750000</td>\n",
       "      <td>1.000000</td>\n",
       "      <td>3.000000</td>\n",
       "      <td>39.000000</td>\n",
       "      <td>1.000000</td>\n",
       "      <td>0.000000</td>\n",
       "      <td>31.500000</td>\n",
       "    </tr>\n",
       "    <tr>\n",
       "      <th>max</th>\n",
       "      <td>1309.000000</td>\n",
       "      <td>1.000000</td>\n",
       "      <td>3.000000</td>\n",
       "      <td>76.000000</td>\n",
       "      <td>8.000000</td>\n",
       "      <td>9.000000</td>\n",
       "      <td>512.329200</td>\n",
       "    </tr>\n",
       "  </tbody>\n",
       "</table>\n",
       "</div>"
      ],
      "text/plain": [
       "       PassengerId    Survived      Pclass         Age       SibSp  \\\n",
       "count   418.000000  418.000000  418.000000  332.000000  418.000000   \n",
       "mean   1100.500000    0.363636    2.265550   30.272590    0.447368   \n",
       "std     120.810458    0.481622    0.841838   14.181209    0.896760   \n",
       "min     892.000000    0.000000    1.000000    0.170000    0.000000   \n",
       "25%     996.250000    0.000000    1.000000   21.000000    0.000000   \n",
       "50%    1100.500000    0.000000    3.000000   27.000000    0.000000   \n",
       "75%    1204.750000    1.000000    3.000000   39.000000    1.000000   \n",
       "max    1309.000000    1.000000    3.000000   76.000000    8.000000   \n",
       "\n",
       "            Parch        Fare  \n",
       "count  418.000000  417.000000  \n",
       "mean     0.392344   35.627188  \n",
       "std      0.981429   55.907576  \n",
       "min      0.000000    0.000000  \n",
       "25%      0.000000    7.895800  \n",
       "50%      0.000000   14.454200  \n",
       "75%      0.000000   31.500000  \n",
       "max      9.000000  512.329200  "
      ]
     },
     "execution_count": 4,
     "metadata": {},
     "output_type": "execute_result"
    }
   ],
   "source": [
    "# Statistical descriptions\n",
    "OD_data.describe()"
   ]
  },
  {
   "cell_type": "code",
   "execution_count": 5,
   "id": "aa12b4d1",
   "metadata": {},
   "outputs": [
    {
     "data": {
      "text/html": [
       "<div>\n",
       "<style scoped>\n",
       "    .dataframe tbody tr th:only-of-type {\n",
       "        vertical-align: middle;\n",
       "    }\n",
       "\n",
       "    .dataframe tbody tr th {\n",
       "        vertical-align: top;\n",
       "    }\n",
       "\n",
       "    .dataframe thead th {\n",
       "        text-align: right;\n",
       "    }\n",
       "</style>\n",
       "<table border=\"1\" class=\"dataframe\">\n",
       "  <thead>\n",
       "    <tr style=\"text-align: right;\">\n",
       "      <th></th>\n",
       "      <th>PassengerId</th>\n",
       "      <th>Survived</th>\n",
       "      <th>Pclass</th>\n",
       "      <th>Name</th>\n",
       "      <th>Sex</th>\n",
       "      <th>Age</th>\n",
       "      <th>SibSp</th>\n",
       "      <th>Parch</th>\n",
       "      <th>Ticket</th>\n",
       "      <th>Fare</th>\n",
       "      <th>Cabin</th>\n",
       "      <th>Embarked</th>\n",
       "    </tr>\n",
       "  </thead>\n",
       "  <tbody>\n",
       "    <tr>\n",
       "      <th>0</th>\n",
       "      <td>892</td>\n",
       "      <td>0</td>\n",
       "      <td>3</td>\n",
       "      <td>Kelly, Mr. James</td>\n",
       "      <td>male</td>\n",
       "      <td>34.5</td>\n",
       "      <td>0</td>\n",
       "      <td>0</td>\n",
       "      <td>330911</td>\n",
       "      <td>7.8292</td>\n",
       "      <td>NaN</td>\n",
       "      <td>Q</td>\n",
       "    </tr>\n",
       "    <tr>\n",
       "      <th>1</th>\n",
       "      <td>893</td>\n",
       "      <td>1</td>\n",
       "      <td>3</td>\n",
       "      <td>Wilkes, Mrs. James (Ellen Needs)</td>\n",
       "      <td>female</td>\n",
       "      <td>47.0</td>\n",
       "      <td>1</td>\n",
       "      <td>0</td>\n",
       "      <td>363272</td>\n",
       "      <td>7.0000</td>\n",
       "      <td>NaN</td>\n",
       "      <td>S</td>\n",
       "    </tr>\n",
       "    <tr>\n",
       "      <th>2</th>\n",
       "      <td>894</td>\n",
       "      <td>0</td>\n",
       "      <td>2</td>\n",
       "      <td>Myles, Mr. Thomas Francis</td>\n",
       "      <td>male</td>\n",
       "      <td>62.0</td>\n",
       "      <td>0</td>\n",
       "      <td>0</td>\n",
       "      <td>240276</td>\n",
       "      <td>9.6875</td>\n",
       "      <td>NaN</td>\n",
       "      <td>Q</td>\n",
       "    </tr>\n",
       "    <tr>\n",
       "      <th>3</th>\n",
       "      <td>895</td>\n",
       "      <td>0</td>\n",
       "      <td>3</td>\n",
       "      <td>Wirz, Mr. Albert</td>\n",
       "      <td>male</td>\n",
       "      <td>27.0</td>\n",
       "      <td>0</td>\n",
       "      <td>0</td>\n",
       "      <td>315154</td>\n",
       "      <td>8.6625</td>\n",
       "      <td>NaN</td>\n",
       "      <td>S</td>\n",
       "    </tr>\n",
       "    <tr>\n",
       "      <th>4</th>\n",
       "      <td>896</td>\n",
       "      <td>1</td>\n",
       "      <td>3</td>\n",
       "      <td>Hirvonen, Mrs. Alexander (Helga E Lindqvist)</td>\n",
       "      <td>female</td>\n",
       "      <td>22.0</td>\n",
       "      <td>1</td>\n",
       "      <td>1</td>\n",
       "      <td>3101298</td>\n",
       "      <td>12.2875</td>\n",
       "      <td>NaN</td>\n",
       "      <td>S</td>\n",
       "    </tr>\n",
       "  </tbody>\n",
       "</table>\n",
       "</div>"
      ],
      "text/plain": [
       "   PassengerId  Survived  Pclass  \\\n",
       "0          892         0       3   \n",
       "1          893         1       3   \n",
       "2          894         0       2   \n",
       "3          895         0       3   \n",
       "4          896         1       3   \n",
       "\n",
       "                                           Name     Sex   Age  SibSp  Parch  \\\n",
       "0                              Kelly, Mr. James    male  34.5      0      0   \n",
       "1              Wilkes, Mrs. James (Ellen Needs)  female  47.0      1      0   \n",
       "2                     Myles, Mr. Thomas Francis    male  62.0      0      0   \n",
       "3                              Wirz, Mr. Albert    male  27.0      0      0   \n",
       "4  Hirvonen, Mrs. Alexander (Helga E Lindqvist)  female  22.0      1      1   \n",
       "\n",
       "    Ticket     Fare Cabin Embarked  \n",
       "0   330911   7.8292   NaN        Q  \n",
       "1   363272   7.0000   NaN        S  \n",
       "2   240276   9.6875   NaN        Q  \n",
       "3   315154   8.6625   NaN        S  \n",
       "4  3101298  12.2875   NaN        S  "
      ]
     },
     "execution_count": 5,
     "metadata": {},
     "output_type": "execute_result"
    }
   ],
   "source": [
    "OD_data.head()"
   ]
  },
  {
   "cell_type": "code",
   "execution_count": 6,
   "id": "9760f379",
   "metadata": {},
   "outputs": [
    {
     "name": "stdout",
     "output_type": "stream",
     "text": [
      "<class 'pandas.core.frame.DataFrame'>\n",
      "RangeIndex: 418 entries, 0 to 417\n",
      "Data columns (total 12 columns):\n",
      " #   Column       Non-Null Count  Dtype  \n",
      "---  ------       --------------  -----  \n",
      " 0   PassengerId  418 non-null    int64  \n",
      " 1   Survived     418 non-null    int64  \n",
      " 2   Pclass       418 non-null    int64  \n",
      " 3   Name         418 non-null    object \n",
      " 4   Sex          418 non-null    object \n",
      " 5   Age          332 non-null    float64\n",
      " 6   SibSp        418 non-null    int64  \n",
      " 7   Parch        418 non-null    int64  \n",
      " 8   Ticket       418 non-null    object \n",
      " 9   Fare         417 non-null    float64\n",
      " 10  Cabin        91 non-null     object \n",
      " 11  Embarked     418 non-null    object \n",
      "dtypes: float64(2), int64(5), object(5)\n",
      "memory usage: 39.3+ KB\n"
     ]
    }
   ],
   "source": [
    "OD_data.info()"
   ]
  },
  {
   "cell_type": "markdown",
   "id": "8a0ef5df",
   "metadata": {},
   "source": [
    "### #02: Partition the data into two parts, the training data D1 and the test data D2, with a ratio of 2:1."
   ]
  },
  {
   "cell_type": "markdown",
   "id": "7506ac8e",
   "metadata": {},
   "source": [
    "For regression problem, there should be X (independent variables) and y (dependent varable). The dependent variable should be continuous and numerical and the independent variable should be in numerical either discerte or continous to train and test regression models."
   ]
  },
  {
   "cell_type": "code",
   "execution_count": 7,
   "id": "37838d89",
   "metadata": {},
   "outputs": [],
   "source": [
    "# converting sex in string to numerical\n",
    "def sex_encoder(x):\n",
    "    if x in ['male', 'female']:\n",
    "        if x == 'male':\n",
    "            return 1\n",
    "        else:\n",
    "            return 0\n",
    "OD_data['Sex#'] = OD_data['Sex'].apply(sex_encoder)"
   ]
  },
  {
   "cell_type": "code",
   "execution_count": 8,
   "id": "5e08fc2e",
   "metadata": {},
   "outputs": [
    {
     "data": {
      "text/plain": [
       "1    266\n",
       "0    152\n",
       "Name: Sex#, dtype: int64"
      ]
     },
     "execution_count": 8,
     "metadata": {},
     "output_type": "execute_result"
    }
   ],
   "source": [
    "OD_data['Sex#'].value_counts()"
   ]
  },
  {
   "cell_type": "code",
   "execution_count": 9,
   "id": "338a4dae",
   "metadata": {},
   "outputs": [
    {
     "data": {
      "text/plain": [
       "PassengerId      0\n",
       "Survived         0\n",
       "Pclass           0\n",
       "Name             0\n",
       "Sex              0\n",
       "Age             86\n",
       "SibSp            0\n",
       "Parch            0\n",
       "Ticket           0\n",
       "Fare             1\n",
       "Cabin          327\n",
       "Embarked         0\n",
       "Sex#             0\n",
       "dtype: int64"
      ]
     },
     "execution_count": 9,
     "metadata": {},
     "output_type": "execute_result"
    }
   ],
   "source": [
    "# check for null values\n",
    "OD_data.isnull().sum()"
   ]
  },
  {
   "cell_type": "code",
   "execution_count": 10,
   "id": "630cf799",
   "metadata": {},
   "outputs": [],
   "source": [
    "# fill null values of `Age` with average age\n",
    "OD_data['Age'].fillna(value = OD_data['Age'].mean(), inplace=True)"
   ]
  },
  {
   "cell_type": "code",
   "execution_count": 11,
   "id": "d628ead2",
   "metadata": {},
   "outputs": [],
   "source": [
    "# delete the row having null value in `Fare`\n",
    "OD_data.dropna(subset=['Fare'], inplace=True)"
   ]
  },
  {
   "cell_type": "code",
   "execution_count": 12,
   "id": "6baea4f3",
   "metadata": {},
   "outputs": [
    {
     "data": {
      "text/plain": [
       "PassengerId    0.008211\n",
       "Survived       0.191514\n",
       "Pclass        -0.577147\n",
       "Age            0.329071\n",
       "SibSp          0.171539\n",
       "Parch          0.230046\n",
       "Fare           1.000000\n",
       "Sex#          -0.191514\n",
       "Name: Fare, dtype: float64"
      ]
     },
     "execution_count": 12,
     "metadata": {},
     "output_type": "execute_result"
    }
   ],
   "source": [
    "# feature selection\n",
    "OD_data.corr()['Fare']"
   ]
  },
  {
   "cell_type": "markdown",
   "id": "eb1d3c5d",
   "metadata": {},
   "source": [
    "`PassengerId`, `Name`, `Tickect`, `Cabin`, `Embarked` attributes are in string object and discrete datapoints. Therefore determined having no impact on `Fare`. So removing from `X` (independent attreibute list)."
   ]
  },
  {
   "cell_type": "code",
   "execution_count": 13,
   "id": "d5f50314",
   "metadata": {},
   "outputs": [
    {
     "data": {
      "text/plain": [
       "{'whiskers': [<matplotlib.lines.Line2D at 0x1f45f081370>,\n",
       "  <matplotlib.lines.Line2D at 0x1f45f081640>],\n",
       " 'caps': [<matplotlib.lines.Line2D at 0x1f45f0819d0>,\n",
       "  <matplotlib.lines.Line2D at 0x1f45f081be0>],\n",
       " 'boxes': [<matplotlib.lines.Line2D at 0x1f45f0810a0>],\n",
       " 'medians': [<matplotlib.lines.Line2D at 0x1f45f081eb0>],\n",
       " 'fliers': [<matplotlib.lines.Line2D at 0x1f45f7341c0>],\n",
       " 'means': []}"
      ]
     },
     "execution_count": 13,
     "metadata": {},
     "output_type": "execute_result"
    },
    {
     "data": {
      "image/png": "[encoded data removed]",
      "text/plain": [
       "<Figure size 432x288 with 1 Axes>"
      ]
     },
     "metadata": {
      "needs_background": "light"
     },
     "output_type": "display_data"
    }
   ],
   "source": [
    "plt.boxplot(OD_data['Fare'])"
   ]
  },
  {
   "cell_type": "code",
   "execution_count": 14,
   "id": "f54c7ad4",
   "metadata": {},
   "outputs": [],
   "source": [
    "# remove datapoints with `Fare` more than 50\n",
    "OD_data = OD_data[OD_data['Fare'] <= 50]"
   ]
  },
  {
   "cell_type": "code",
   "execution_count": 15,
   "id": "27969e07",
   "metadata": {},
   "outputs": [],
   "source": [
    "#X = OD_data[['Survived', 'Pclass', 'Age', 'Sex#', 'SibSp', 'Parch']]\n",
    "X = OD_data[['Survived', 'Pclass', 'Age', 'Sex#']]\n",
    "y = OD_data['Fare']\n",
    "#y = OD_data['Survived']\n",
    "D1_X, D2_X, D1_y, D2_y = train_test_split(X, y, test_size = float(1/3), random_state = 42)"
   ]
  },
  {
   "cell_type": "markdown",
   "id": "141aa3ab",
   "metadata": {},
   "source": [
    "`D1_X`, `D1_y` are training set <br>\n",
    "`D2_X`, `D2_y` are testing set"
   ]
  },
  {
   "cell_type": "markdown",
   "id": "5ff62b47",
   "metadata": {},
   "source": [
    "### #03: (Polynomial regression) We now build a polynomial regression model. Fit the polynomial regression using the training data D1."
   ]
  },
  {
   "cell_type": "code",
   "execution_count": 16,
   "id": "8fbb8e49",
   "metadata": {},
   "outputs": [],
   "source": [
    "# transform the data into polynomial equation\n",
    "poly = PolynomialFeatures(degree = 1, include_bias = False)\n",
    "poly.fit(X)\n",
    "poly_D1_X = poly.transform(D1_X)\n",
    "poly_D2_X = poly.transform(D2_X)"
   ]
  },
  {
   "cell_type": "code",
   "execution_count": 17,
   "id": "268e9acf",
   "metadata": {},
   "outputs": [
    {
     "data": {
      "text/plain": [
       "LinearRegression()"
      ]
     },
     "execution_count": 17,
     "metadata": {},
     "output_type": "execute_result"
    }
   ],
   "source": [
    "# train polynomial regression model\n",
    "poly_reg_model = LinearRegression()\n",
    "poly_reg_model.fit(poly_D1_X, D1_y)"
   ]
  },
  {
   "cell_type": "code",
   "execution_count": 18,
   "id": "860a0f8c",
   "metadata": {
    "scrolled": true
   },
   "outputs": [
    {
     "name": "stdout",
     "output_type": "stream",
     "text": [
      "39.38645455544929 [ 1.69068775 -8.77847732 -0.05326329 -1.69068775]\n"
     ]
    }
   ],
   "source": [
    "print(poly_reg_model.intercept_, poly_reg_model.coef_)"
   ]
  },
  {
   "cell_type": "markdown",
   "id": "b55b96a7",
   "metadata": {},
   "source": [
    "### #04: Apply the polynomial regression model to the test data D2. Present the Mean squared error and Coefficient of determination."
   ]
  },
  {
   "cell_type": "code",
   "execution_count": 19,
   "id": "3667300e",
   "metadata": {},
   "outputs": [],
   "source": [
    "# predit values of test data\n",
    "D2_y_pred = poly_reg_model.predict(poly_D2_X)"
   ]
  },
  {
   "cell_type": "code",
   "execution_count": 20,
   "id": "6019c799",
   "metadata": {},
   "outputs": [
    {
     "name": "stdout",
     "output_type": "stream",
     "text": [
      "Mean squared error: 60.741\n",
      "Coefficient of determination: 0.43\n"
     ]
    }
   ],
   "source": [
    "print(f\"Mean squared error: {mean_squared_error(D2_y, D2_y_pred):.3f}\")\n",
    "print(f\"Coefficient of determination: {r2_score(D2_y, D2_y_pred):.2f}\")"
   ]
  },
  {
   "cell_type": "markdown",
   "id": "2bb80508",
   "metadata": {},
   "source": [
    "### #05: Find the p-value of the polynomial regression model and interpret the p-value."
   ]
  },
  {
   "cell_type": "code",
   "execution_count": 21,
   "id": "6d4cdfd9",
   "metadata": {},
   "outputs": [],
   "source": [
    "def interpret_pvalue(model, X, y, line = True):\n",
    "    pvalue = permutation_test_score(model, X, y)\n",
    "    print(f\"p-value: {pvalue[2]:.4f}\")\n",
    "    if line == True:\n",
    "        if pvalue[2] <= 5e-2:\n",
    "            print(\"Low p-value\")\n",
    "        else:\n",
    "            print(\"High p-value\")"
   ]
  },
  {
   "cell_type": "code",
   "execution_count": 22,
   "id": "96630a15",
   "metadata": {},
   "outputs": [
    {
     "name": "stdout",
     "output_type": "stream",
     "text": [
      "p-value: 0.0099\n",
      "Low p-value\n"
     ]
    }
   ],
   "source": [
    "interpret_pvalue(poly_reg_model, X, y)"
   ]
  },
  {
   "cell_type": "markdown",
   "id": "e06a7323",
   "metadata": {},
   "source": [
    "### #06: Draw a scatter plot between the actual test value versus the predicted values."
   ]
  },
  {
   "cell_type": "code",
   "execution_count": 23,
   "id": "4bce27db",
   "metadata": {},
   "outputs": [
    {
     "data": {
      "image/png": "[encoded data removed]",
      "text/plain": [
       "<Figure size 576x432 with 1 Axes>"
      ]
     },
     "metadata": {
      "needs_background": "light"
     },
     "output_type": "display_data"
    }
   ],
   "source": [
    "def plot_act_test(x, y):\n",
    "    plt.figure(figsize=(8, 6))\n",
    "    plt.scatter(x, y, color='blue', label='Scatter Plot')\n",
    "    plt.plot([min(x), max(x)], [min(x), max(x)], linestyle='--', color='red', label='Perfect Prediction')\n",
    "    plt.title('Scatter Plot of Actual vs. Predicted Values')\n",
    "    plt.legend()\n",
    "    plt.show()\n",
    "plot_act_test(D2_y, D2_y_pred)"
   ]
  },
  {
   "cell_type": "markdown",
   "id": "7171bc64",
   "metadata": {},
   "source": [
    "### #07:  (Logistic regression) Apply the cross-validation techniques (5-fold) for constructing the logistic regression model. Present the Mean squared error and p-value for each of the 5 folds respectively in a table."
   ]
  },
  {
   "cell_type": "markdown",
   "id": "2f839097",
   "metadata": {},
   "source": [
    "logistic regression can only be used on discrete dependent variables lets make some changes to `X` and `y`. As I am workin with discrete variables the error metrics consisted to be `accuracy` instead of `mean squared error`."
   ]
  },
  {
   "cell_type": "code",
   "execution_count": 24,
   "id": "10eb83a1",
   "metadata": {},
   "outputs": [
    {
     "data": {
      "text/plain": [
       "PassengerId   -0.049522\n",
       "Survived       1.000000\n",
       "Pclass         0.031464\n",
       "Age           -0.099833\n",
       "SibSp          0.103704\n",
       "Parch          0.197314\n",
       "Fare           0.128828\n",
       "Sex#          -1.000000\n",
       "Name: Survived, dtype: float64"
      ]
     },
     "execution_count": 24,
     "metadata": {},
     "output_type": "execute_result"
    }
   ],
   "source": [
    "# feature selection\n",
    "OD_data.corr()['Survived']"
   ]
  },
  {
   "cell_type": "code",
   "execution_count": 25,
   "id": "9b52c77e",
   "metadata": {},
   "outputs": [
    {
     "data": {
      "text/plain": [
       "0    228\n",
       "1    109\n",
       "Name: Survived, dtype: int64"
      ]
     },
     "execution_count": 25,
     "metadata": {},
     "output_type": "execute_result"
    }
   ],
   "source": [
    "OD_data['Survived'].value_counts()"
   ]
  },
  {
   "cell_type": "code",
   "execution_count": 26,
   "id": "251e2908",
   "metadata": {},
   "outputs": [],
   "source": [
    "X = OD_data[['Sex#', 'SibSp', 'Parch', 'Fare']].to_numpy()\n",
    "y = OD_data['Survived'].to_numpy()"
   ]
  },
  {
   "cell_type": "code",
   "execution_count": 27,
   "id": "2c5d2eb7",
   "metadata": {},
   "outputs": [],
   "source": [
    "log_reg_model = LogisticRegression()"
   ]
  },
  {
   "cell_type": "code",
   "execution_count": 28,
   "id": "d5cfc887",
   "metadata": {},
   "outputs": [],
   "source": [
    "kf = KFold(n_splits=5, shuffle=True, random_state=42)"
   ]
  },
  {
   "cell_type": "code",
   "execution_count": 29,
   "id": "1592f0c3",
   "metadata": {},
   "outputs": [
    {
     "name": "stdout",
     "output_type": "stream",
     "text": [
      "Fold 1 - Test Accuracy: 1.00 - p-value: 0.0099\n",
      "Fold 2 - Test Accuracy: 1.00 - p-value: 0.0099\n",
      "Fold 3 - Test Accuracy: 1.00 - p-value: 0.0099\n",
      "Fold 4 - Test Accuracy: 1.00 - p-value: 0.0099\n",
      "Fold 5 - Test Accuracy: 1.00 - p-value: 0.0099\n"
     ]
    }
   ],
   "source": [
    "fold=1\n",
    "for train_index, test_index in kf.split(X):\n",
    "    X_train, X_test = X[train_index], X[test_index]\n",
    "    y_train, y_test = y[train_index], y[test_index]\n",
    "\n",
    "    # Create and train a logistic regression model\n",
    "    model = LogisticRegression()\n",
    "    model.fit(X_train, y_train)\n",
    "\n",
    "    # p-value\n",
    "    pvalue = permutation_test_score(model, X_test, y_test)\n",
    "    \n",
    "    # Evaluate the model on the test data\n",
    "    accuracy = model.score(X_test, y_test)\n",
    "    print(f\"Fold {fold} - Test Accuracy: {accuracy:.2f} - p-value: {pvalue[2]:.4f}\")\n",
    "    y_pred = model.predict(X_test)\n",
    "    fold+=1"
   ]
  },
  {
   "cell_type": "markdown",
   "id": "a73cb22a",
   "metadata": {},
   "source": [
    "### #08: Draw a scatter plot between the actual test value versus the predicted values."
   ]
  },
  {
   "cell_type": "code",
   "execution_count": 30,
   "id": "7397848e",
   "metadata": {},
   "outputs": [
    {
     "data": {
      "image/png": "[encoded data removed]",
      "text/plain": [
       "<Figure size 576x432 with 1 Axes>"
      ]
     },
     "metadata": {
      "needs_background": "light"
     },
     "output_type": "display_data"
    }
   ],
   "source": [
    "plt.figure(figsize=(8, 6))\n",
    "plt.scatter(y_test, y_test, color='blue', label='Scatter Plot')\n",
    "plt.plot([min(y_test), max(y_test)], [min(y_test), max(y_test)], linestyle='--',\n",
    "         color='red', label='Perfect Prediction')\n",
    "plt.title('Scatter Plot of Actual vs. Predicted Values')\n",
    "plt.legend()\n",
    "plt.show()"
   ]
  },
  {
   "cell_type": "markdown",
   "id": "385586ea",
   "metadata": {},
   "source": [
    "-- the end --"
   ]
  }
 ],
 "metadata": {
  "kernelspec": {
   "display_name": "Python 3 (ipykernel)",
   "language": "python",
   "name": "python3"
  },
  "language_info": {
   "codemirror_mode": {
    "name": "ipython",
    "version": 3
   },
   "file_extension": ".py",
   "mimetype": "text/x-python",
   "name": "python",
   "nbconvert_exporter": "python",
   "pygments_lexer": "ipython3",
   "version": "3.9.12"
  }
 },
 "nbformat": 4,
 "nbformat_minor": 5
}
